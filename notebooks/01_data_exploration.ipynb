{
 "cells": [
  {
   "cell_type": "markdown",
   "metadata": {},
   "source": [
    "# 01. Исследование данных криптовалют\n",
    "\n",
    "Этот ноутбук предназначен для первичного анализа данных из PostgreSQL"
   ]
  },
  {
   "cell_type": "code",
   "execution_count": null,
   "metadata": {},
   "outputs": [],
   "source": [
    "# Импорты\n",
    "import sys\n",
    "sys.path.append('..')\n",
    "\n",
    "import pandas as pd\n",
    "import numpy as np\n",
    "import matplotlib.pyplot as plt\n",
    "import seaborn as sns\n",
    "from datetime import datetime, timedelta\n",
    "import warnings\n",
    "warnings.filterwarnings('ignore')\n",
    "\n",
    "# Настройка визуализации\n",
    "plt.style.use('seaborn-v0_8-darkgrid')\n",
    "plt.rcParams['figure.figsize'] = (12, 6)\n",
    "plt.rcParams['font.size'] = 10\n",
    "\n",
    "# Импорт модулей проекта\n",
    "from data.data_loader import CryptoDataLoader\n",
    "from utils.logger import setup_logging\n",
    "import yaml\n",
    "\n",
    "# Загрузка конфигурации\n",
    "with open('../config/config.yaml', 'r') as f:\n",
    "    config = yaml.safe_load(f)\n",
    "\n",
    "setup_logging()\n",
    "print(\"Библиотеки загружены успешно!\")"
   ]
  },
  {
   "cell_type": "markdown",
   "metadata": {},
   "source": [
    "## 1. Загрузка данных"
   ]
  },
  {
   "cell_type": "code",
   "execution_count": null,
   "metadata": {},
   "outputs": [],
   "source": [
    "# Инициализация загрузчика данных\n",
    "data_loader = CryptoDataLoader(config)\n",
    "\n",
    "# Загрузка данных\n",
    "print(\"Загрузка данных из PostgreSQL...\")\n",
    "df = data_loader.load_raw_data(limit=100000)  # Ограничиваем для быстрой загрузки\n",
    "\n",
    "print(f\"\\nЗагружено {len(df)} записей\")\n",
    "print(f\"Период: {df['datetime'].min()} - {df['datetime'].max()}\")\n",
    "print(f\"Количество символов: {df['symbol'].nunique()}\")"
   ]
  },
  {
   "cell_type": "markdown",
   "metadata": {},
   "source": [
    "## 2. Общая информация о данных"
   ]
  },
  {
   "cell_type": "code",
   "execution_count": null,
   "metadata": {},
   "outputs": [],
   "source": [
    "# Структура данных\n",
    "print(\"Структура DataFrame:\")\n",
    "df.info()\n",
    "\n",
    "print(\"\\nПервые 5 записей:\")\n",
    "df.head()"
   ]
  },
  {
   "cell_type": "code",
   "execution_count": null,
   "metadata": {},
   "outputs": [],
   "source": [
    "# Базовая статистика\n",
    "print(\"Описательная статистика:\")\n",
    "df.describe()"
   ]
  },
  {
   "cell_type": "code",
   "execution_count": null,
   "metadata": {},
   "outputs": [],
   "source": [
    "# Проверка пропущенных значений\n",
    "print(\"Пропущенные значения:\")\n",
    "missing_values = df.isnull().sum()\n",
    "missing_percent = (missing_values / len(df)) * 100\n",
    "missing_df = pd.DataFrame({\n",
    "    'Missing Count': missing_values,\n",
    "    'Percentage': missing_percent\n",
    "})\n",
    "missing_df[missing_df['Missing Count'] > 0]"
   ]
  },
  {
   "cell_type": "markdown",
   "metadata": {},
   "source": [
    "## 3. Анализ по символам"
   ]
  },
  {
   "cell_type": "code",
   "execution_count": null,
   "metadata": {},
   "outputs": [],
   "source": [
    "# Топ символов по количеству записей\n",
    "symbol_counts = df['symbol'].value_counts().head(20)\n",
    "\n",
    "plt.figure(figsize=(12, 6))\n",
    "symbol_counts.plot(kind='bar')\n",
    "plt.title('Топ-20 символов по количеству записей')\n",
    "plt.xlabel('Символ')\n",
    "plt.ylabel('Количество записей')\n",
    "plt.xticks(rotation=45)\n",
    "plt.tight_layout()\n",
    "plt.show()"
   ]
  },
  {
   "cell_type": "code",
   "execution_count": null,
   "metadata": {},
   "outputs": [],
   "source": [
    "# Анализ объемов торгов по символам\n",
    "volume_by_symbol = df.groupby('symbol')['volume'].agg(['sum', 'mean', 'std']).sort_values('sum', ascending=False).head(20)\n",
    "\n",
    "fig, (ax1, ax2) = plt.subplots(1, 2, figsize=(15, 6))\n",
    "\n",
    "# Общий объем\n",
    "volume_by_symbol['sum'].plot(kind='bar', ax=ax1)\n",
    "ax1.set_title('Общий объем торгов по символам')\n",
    "ax1.set_xlabel('Символ')\n",
    "ax1.set_ylabel('Объем')\n",
    "ax1.tick_params(axis='x', rotation=45)\n",
    "\n",
    "# Средний объем\n",
    "volume_by_symbol['mean'].plot(kind='bar', ax=ax2, color='orange')\n",
    "ax2.set_title('Средний объем торгов по символам')\n",
    "ax2.set_xlabel('Символ')\n",
    "ax2.set_ylabel('Средний объем')\n",
    "ax2.tick_params(axis='x', rotation=45)\n",
    "\n",
    "plt.tight_layout()\n",
    "plt.show()"
   ]
  },
  {
   "cell_type": "markdown",
   "metadata": {},
   "source": [
    "## 4. Временной анализ"
   ]
  },
  {
   "cell_type": "code",
   "execution_count": null,
   "metadata": {},
   "outputs": [],
   "source": [
    "# Выбираем популярный символ для детального анализа\n",
    "selected_symbol = symbol_counts.index[0]\n",
    "symbol_data = df[df['symbol'] == selected_symbol].copy()\n",
    "symbol_data = symbol_data.sort_values('datetime')\n",
    "\n",
    "print(f\"Анализ для символа: {selected_symbol}\")\n",
    "print(f\"Количество записей: {len(symbol_data)}\")\n",
    "print(f\"Период: {symbol_data['datetime'].min()} - {symbol_data['datetime'].max()}\")"
   ]
  },
  {
   "cell_type": "code",
   "execution_count": null,
   "metadata": {},
   "outputs": [],
   "source": [
    "# График цены\n",
    "fig, axes = plt.subplots(3, 1, figsize=(14, 10), sharex=True)\n",
    "\n",
    "# Цена закрытия\n",
    "axes[0].plot(symbol_data['datetime'], symbol_data['close'], label='Close', linewidth=1)\n",
    "axes[0].fill_between(symbol_data['datetime'], symbol_data['low'], symbol_data['high'], alpha=0.3, label='High-Low range')\n",
    "axes[0].set_ylabel('Цена')\n",
    "axes[0].set_title(f'{selected_symbol} - Динамика цены')\n",
    "axes[0].legend()\n",
    "axes[0].grid(True, alpha=0.3)\n",
    "\n",
    "# Объем\n",
    "axes[1].bar(symbol_data['datetime'], symbol_data['volume'], width=0.01, alpha=0.7)\n",
    "axes[1].set_ylabel('Объем')\n",
    "axes[1].set_title('Объем торгов')\n",
    "axes[1].grid(True, alpha=0.3)\n",
    "\n",
    "# Волатильность (High-Low)\n",
    "symbol_data['volatility'] = (symbol_data['high'] - symbol_data['low']) / symbol_data['close'] * 100\n",
    "axes[2].plot(symbol_data['datetime'], symbol_data['volatility'], color='red', linewidth=1)\n",
    "axes[2].set_ylabel('Волатильность (%)')\n",
    "axes[2].set_xlabel('Дата')\n",
    "axes[2].set_title('Внутридневная волатильность')\n",
    "axes[2].grid(True, alpha=0.3)\n",
    "\n",
    "plt.tight_layout()\n",
    "plt.show()"
   ]
  },
  {
   "cell_type": "markdown",
   "metadata": {},
   "source": [
    "## 5. Анализ доходности"
   ]
  },
  {
   "cell_type": "code",
   "execution_count": null,
   "metadata": {},
   "outputs": [],
   "source": [
    "# Расчет доходностей\n",
    "symbol_data['returns'] = symbol_data['close'].pct_change()\n",
    "symbol_data['log_returns'] = np.log(symbol_data['close'] / symbol_data['close'].shift(1))\n",
    "\n",
    "# Статистика доходностей\n",
    "print(\"Статистика доходностей:\")\n",
    "print(f\"Средняя доходность: {symbol_data['returns'].mean():.4%}\")\n",
    "print(f\"Стандартное отклонение: {symbol_data['returns'].std():.4%}\")\n",
    "print(f\"Sharpe Ratio (годовой): {np.sqrt(252*96) * symbol_data['returns'].mean() / symbol_data['returns'].std():.2f}\")\n",
    "print(f\"Максимальная доходность: {symbol_data['returns'].max():.4%}\")\n",
    "print(f\"Минимальная доходность: {symbol_data['returns'].min():.4%}\")"
   ]
  },
  {
   "cell_type": "code",
   "execution_count": null,
   "metadata": {},
   "outputs": [],
   "source": [
    "# Распределение доходностей\n",
    "fig, axes = plt.subplots(2, 2, figsize=(14, 10))\n",
    "\n",
    "# Гистограмма доходностей\n",
    "axes[0, 0].hist(symbol_data['returns'].dropna(), bins=100, alpha=0.7, edgecolor='black')\n",
    "axes[0, 0].axvline(symbol_data['returns'].mean(), color='red', linestyle='--', label='Среднее')\n",
    "axes[0, 0].set_xlabel('Доходность')\n",
    "axes[0, 0].set_ylabel('Частота')\n",
    "axes[0, 0].set_title('Распределение доходностей')\n",
    "axes[0, 0].legend()\n",
    "\n",
    "# QQ-plot\n",
    "from scipy import stats\n",
    "stats.probplot(symbol_data['returns'].dropna(), dist=\"norm\", plot=axes[0, 1])\n",
    "axes[0, 1].set_title('QQ-plot доходностей')\n",
    "\n",
    "# Кумулятивная доходность\n",
    "cumulative_returns = (1 + symbol_data['returns']).cumprod()\n",
    "axes[1, 0].plot(symbol_data['datetime'], cumulative_returns)\n",
    "axes[1, 0].set_xlabel('Дата')\n",
    "axes[1, 0].set_ylabel('Кумулятивная доходность')\n",
    "axes[1, 0].set_title('Кумулятивная доходность')\n",
    "axes[1, 0].grid(True, alpha=0.3)\n",
    "\n",
    "# Rolling volatility\n",
    "rolling_vol = symbol_data['returns'].rolling(window=96*7).std() * np.sqrt(252*96)  # Недельная волатильность\n",
    "axes[1, 1].plot(symbol_data['datetime'], rolling_vol)\n",
    "axes[1, 1].set_xlabel('Дата')\n",
    "axes[1, 1].set_ylabel('Волатильность (годовая)')\n",
    "axes[1, 1].set_title('Скользящая волатильность (7 дней)')\n",
    "axes[1, 1].grid(True, alpha=0.3)\n",
    "\n",
    "plt.tight_layout()\n",
    "plt.show()"
   ]
  },
  {
   "cell_type": "markdown",
   "metadata": {},
   "source": [
    "## 6. Корреляционный анализ"
   ]
  },
  {
   "cell_type": "code",
   "execution_count": null,
   "metadata": {},
   "outputs": [],
   "source": [
    "# Подготовка данных для корреляционного анализа\n",
    "top_symbols = symbol_counts.head(10).index.tolist()\n",
    "pivot_data = df[df['symbol'].isin(top_symbols)].pivot(index='datetime', columns='symbol', values='close')\n",
    "returns_matrix = pivot_data.pct_change().dropna()\n",
    "\n",
    "# Корреляционная матрица\n",
    "correlation_matrix = returns_matrix.corr()\n",
    "\n",
    "plt.figure(figsize=(10, 8))\n",
    "sns.heatmap(correlation_matrix, annot=True, cmap='coolwarm', center=0, \n",
    "            square=True, linewidths=1, cbar_kws={\"shrink\": 0.8})\n",
    "plt.title('Корреляционная матрица доходностей (Топ-10 символов)')\n",
    "plt.tight_layout()\n",
    "plt.show()"
   ]
  },
  {
   "cell_type": "markdown",
   "metadata": {},
   "source": [
    "## 7. Анализ внутридневных паттернов"
   ]
  },
  {
   "cell_type": "code",
   "execution_count": null,
   "metadata": {},
   "outputs": [],
   "source": [
    "# Добавляем временные признаки\n",
    "df['hour'] = pd.to_datetime(df['datetime']).dt.hour\n",
    "df['day_of_week'] = pd.to_datetime(df['datetime']).dt.dayofweek\n",
    "df['day_name'] = pd.to_datetime(df['datetime']).dt.day_name()\n",
    "\n",
    "# Средний объем по часам\n",
    "hourly_volume = df.groupby('hour')['volume'].mean()\n",
    "\n",
    "plt.figure(figsize=(12, 6))\n",
    "hourly_volume.plot(kind='bar')\n",
    "plt.title('Средний объем торгов по часам (UTC)')\n",
    "plt.xlabel('Час')\n",
    "plt.ylabel('Средний объем')\n",
    "plt.grid(True, alpha=0.3)\n",
    "plt.tight_layout()\n",
    "plt.show()"
   ]
  },
  {
   "cell_type": "code",
   "execution_count": null,
   "metadata": {},
   "outputs": [],
   "source": [
    "# Волатильность по дням недели\n",
    "df['price_range'] = (df['high'] - df['low']) / df['close'] * 100\n",
    "daily_volatility = df.groupby('day_name')['price_range'].mean()\n",
    "day_order = ['Monday', 'Tuesday', 'Wednesday', 'Thursday', 'Friday', 'Saturday', 'Sunday']\n",
    "daily_volatility = daily_volatility.reindex(day_order)\n",
    "\n",
    "plt.figure(figsize=(10, 6))\n",
    "daily_volatility.plot(kind='bar', color='coral')\n",
    "plt.title('Средняя внутридневная волатильность по дням недели')\n",
    "plt.xlabel('День недели')\n",
    "plt.ylabel('Волатильность (%)')\n",
    "plt.grid(True, alpha=0.3)\n",
    "plt.tight_layout()\n",
    "plt.show()"
   ]
  },
  {
   "cell_type": "markdown",
   "metadata": {},
   "source": [
    "## 8. Экспорт результатов"
   ]
  },
  {
   "cell_type": "code",
   "execution_count": null,
   "metadata": {},
   "outputs": [],
   "source": [
    "# Сохранение основной статистики\n",
    "summary_stats = {\n",
    "    'total_records': len(df),\n",
    "    'date_range': f\"{df['datetime'].min()} - {df['datetime'].max()}\",\n",
    "    'unique_symbols': df['symbol'].nunique(),\n",
    "    'top_symbols': symbol_counts.head(10).to_dict(),\n",
    "    'missing_values': missing_df[missing_df['Missing Count'] > 0].to_dict(),\n",
    "    'selected_symbol_stats': {\n",
    "        'symbol': selected_symbol,\n",
    "        'mean_return': float(symbol_data['returns'].mean()),\n",
    "        'std_return': float(symbol_data['returns'].std()),\n",
    "        'sharpe_ratio': float(np.sqrt(252*96) * symbol_data['returns'].mean() / symbol_data['returns'].std())\n",
    "    }\n",
    "}\n",
    "\n",
    "# Сохранение в JSON\n",
    "import json\n",
    "with open('data_exploration_summary.json', 'w') as f:\n",
    "    json.dump(summary_stats, f, indent=4, default=str)\n",
    "\n",
    "print(\"Результаты сохранены в data_exploration_summary.json\")\n",
    "print(\"\\nКраткая сводка:\")\n",
    "for key, value in summary_stats.items():\n",
    "    if isinstance(value, dict):\n",
    "        print(f\"{key}:\")\n",
    "        for k, v in list(value.items())[:3]:\n",
    "            print(f\"  {k}: {v}\")\n",
    "    else:\n",
    "        print(f\"{key}: {value}\")"
   ]
  }
 ],
 "metadata": {
  "kernelspec": {
   "display_name": "Python 3",
   "language": "python",
   "name": "python3"
  },
  "language_info": {
   "codemirror_mode": {
    "name": "ipython",
    "version": 3
   },
   "file_extension": ".py",
   "mimetype": "text/x-python",
   "name": "python",
   "nbconvert_exporter": "python",
   "pygments_lexer": "ipython3",
   "version": "3.9.0"
  }
 },
 "nbformat": 4,
 "nbformat_minor": 4
}